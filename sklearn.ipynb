{
 "cells": [
  {
   "cell_type": "code",
   "execution_count": 56,
   "id": "1974ac1b",
   "metadata": {},
   "outputs": [],
   "source": [
    "from sklearn.neighbors import KNeighborsRegressor\n",
    "from sklearn.linear_model import LinearRegression\n",
    "from sklearn.datasets import load_boston\n",
    "from matplotlib.pylab import plt\n",
    "from sklearn.preprocessing import StandardScaler\n",
    "from sklearn.pipeline import Pipeline;\n",
    "from sklearn.model_selection import GridSearchCV\n",
    "import pandas as pd"
   ]
  },
  {
   "cell_type": "code",
   "execution_count": 28,
   "id": "f9d86601",
   "metadata": {},
   "outputs": [],
   "source": [
    "mod = KNeighborsRegressor()"
   ]
  },
  {
   "cell_type": "code",
   "execution_count": 29,
   "id": "7b86f618",
   "metadata": {},
   "outputs": [],
   "source": [
    "x , y = load_boston(return_X_y=True)"
   ]
  },
  {
   "cell_type": "code",
   "execution_count": 71,
   "id": "1c2385e4",
   "metadata": {},
   "outputs": [
    {
     "data": {
      "text/plain": [
       "{'memory': None,\n",
       " 'steps': [('scale', StandardScaler()),\n",
       "  ('model', KNeighborsRegressor(n_neighbors=2))],\n",
       " 'verbose': False,\n",
       " 'scale': StandardScaler(),\n",
       " 'model': KNeighborsRegressor(n_neighbors=2),\n",
       " 'scale__copy': True,\n",
       " 'scale__with_mean': True,\n",
       " 'scale__with_std': True,\n",
       " 'model__algorithm': 'auto',\n",
       " 'model__leaf_size': 30,\n",
       " 'model__metric': 'minkowski',\n",
       " 'model__metric_params': None,\n",
       " 'model__n_jobs': None,\n",
       " 'model__n_neighbors': 2,\n",
       " 'model__p': 2,\n",
       " 'model__weights': 'uniform'}"
      ]
     },
     "execution_count": 71,
     "metadata": {},
     "output_type": "execute_result"
    }
   ],
   "source": [
    "pipe = Pipeline([\n",
    "    (\"scale\",StandardScaler()),\n",
    "    (\"model\",KNeighborsRegressor(n_neighbors=2))\n",
    "])\n",
    "pipe.get_params()"
   ]
  },
  {
   "cell_type": "code",
   "execution_count": 51,
   "id": "f4b9aacd",
   "metadata": {},
   "outputs": [],
   "source": [
    "mod = GridSearchCV(pipe,\n",
    "            param_grid={\n",
    "                \"model__n_neighbors\":[1,2,3,4,5,6,7,8,9,10]\n",
    "            })"
   ]
  },
  {
   "cell_type": "code",
   "execution_count": 52,
   "id": "2a3e1e75",
   "metadata": {},
   "outputs": [
    {
     "data": {
      "text/plain": [
       "GridSearchCV(estimator=Pipeline(steps=[('scale', StandardScaler()),\n",
       "                                       ('model', KNeighborsRegressor())]),\n",
       "             param_grid={'model__n_neighbors': [1, 2, 3, 4, 5, 6, 7, 8, 9, 10]})"
      ]
     },
     "execution_count": 52,
     "metadata": {},
     "output_type": "execute_result"
    }
   ],
   "source": [
    "mod.fit(x,y)"
   ]
  },
  {
   "cell_type": "code",
   "execution_count": 57,
   "id": "9dd78e9d",
   "metadata": {},
   "outputs": [
    {
     "data": {
      "text/html": [
       "<div>\n",
       "<style scoped>\n",
       "    .dataframe tbody tr th:only-of-type {\n",
       "        vertical-align: middle;\n",
       "    }\n",
       "\n",
       "    .dataframe tbody tr th {\n",
       "        vertical-align: top;\n",
       "    }\n",
       "\n",
       "    .dataframe thead th {\n",
       "        text-align: right;\n",
       "    }\n",
       "</style>\n",
       "<table border=\"1\" class=\"dataframe\">\n",
       "  <thead>\n",
       "    <tr style=\"text-align: right;\">\n",
       "      <th></th>\n",
       "      <th>mean_fit_time</th>\n",
       "      <th>std_fit_time</th>\n",
       "      <th>mean_score_time</th>\n",
       "      <th>std_score_time</th>\n",
       "      <th>param_model__n_neighbors</th>\n",
       "      <th>params</th>\n",
       "      <th>split0_test_score</th>\n",
       "      <th>split1_test_score</th>\n",
       "      <th>split2_test_score</th>\n",
       "      <th>split3_test_score</th>\n",
       "      <th>split4_test_score</th>\n",
       "      <th>mean_test_score</th>\n",
       "      <th>std_test_score</th>\n",
       "      <th>rank_test_score</th>\n",
       "    </tr>\n",
       "  </thead>\n",
       "  <tbody>\n",
       "    <tr>\n",
       "      <th>0</th>\n",
       "      <td>0.003519</td>\n",
       "      <td>0.000734</td>\n",
       "      <td>0.003300</td>\n",
       "      <td>0.000718</td>\n",
       "      <td>1</td>\n",
       "      <td>{'model__n_neighbors': 1}</td>\n",
       "      <td>0.339313</td>\n",
       "      <td>0.423779</td>\n",
       "      <td>0.534566</td>\n",
       "      <td>0.486373</td>\n",
       "      <td>-1.623928</td>\n",
       "      <td>0.032020</td>\n",
       "      <td>0.830549</td>\n",
       "      <td>10</td>\n",
       "    </tr>\n",
       "    <tr>\n",
       "      <th>1</th>\n",
       "      <td>0.001722</td>\n",
       "      <td>0.000122</td>\n",
       "      <td>0.001906</td>\n",
       "      <td>0.000273</td>\n",
       "      <td>2</td>\n",
       "      <td>{'model__n_neighbors': 2}</td>\n",
       "      <td>0.441649</td>\n",
       "      <td>0.547962</td>\n",
       "      <td>0.474980</td>\n",
       "      <td>0.496794</td>\n",
       "      <td>-0.548699</td>\n",
       "      <td>0.282537</td>\n",
       "      <td>0.417052</td>\n",
       "      <td>9</td>\n",
       "    </tr>\n",
       "    <tr>\n",
       "      <th>2</th>\n",
       "      <td>0.001591</td>\n",
       "      <td>0.000095</td>\n",
       "      <td>0.001850</td>\n",
       "      <td>0.000174</td>\n",
       "      <td>3</td>\n",
       "      <td>{'model__n_neighbors': 3}</td>\n",
       "      <td>0.520304</td>\n",
       "      <td>0.593339</td>\n",
       "      <td>0.547746</td>\n",
       "      <td>0.513891</td>\n",
       "      <td>0.002980</td>\n",
       "      <td>0.435652</td>\n",
       "      <td>0.218139</td>\n",
       "      <td>8</td>\n",
       "    </tr>\n",
       "    <tr>\n",
       "      <th>3</th>\n",
       "      <td>0.001504</td>\n",
       "      <td>0.000033</td>\n",
       "      <td>0.001718</td>\n",
       "      <td>0.000173</td>\n",
       "      <td>4</td>\n",
       "      <td>{'model__n_neighbors': 4}</td>\n",
       "      <td>0.547088</td>\n",
       "      <td>0.606925</td>\n",
       "      <td>0.509770</td>\n",
       "      <td>0.490452</td>\n",
       "      <td>0.211278</td>\n",
       "      <td>0.473103</td>\n",
       "      <td>0.136807</td>\n",
       "      <td>7</td>\n",
       "    </tr>\n",
       "    <tr>\n",
       "      <th>4</th>\n",
       "      <td>0.001492</td>\n",
       "      <td>0.000021</td>\n",
       "      <td>0.001724</td>\n",
       "      <td>0.000138</td>\n",
       "      <td>5</td>\n",
       "      <td>{'model__n_neighbors': 5}</td>\n",
       "      <td>0.560895</td>\n",
       "      <td>0.619174</td>\n",
       "      <td>0.486619</td>\n",
       "      <td>0.469869</td>\n",
       "      <td>0.231330</td>\n",
       "      <td>0.473577</td>\n",
       "      <td>0.132431</td>\n",
       "      <td>6</td>\n",
       "    </tr>\n",
       "    <tr>\n",
       "      <th>5</th>\n",
       "      <td>0.001468</td>\n",
       "      <td>0.000006</td>\n",
       "      <td>0.001763</td>\n",
       "      <td>0.000095</td>\n",
       "      <td>6</td>\n",
       "      <td>{'model__n_neighbors': 6}</td>\n",
       "      <td>0.582450</td>\n",
       "      <td>0.621194</td>\n",
       "      <td>0.509111</td>\n",
       "      <td>0.446859</td>\n",
       "      <td>0.250417</td>\n",
       "      <td>0.482006</td>\n",
       "      <td>0.130434</td>\n",
       "      <td>5</td>\n",
       "    </tr>\n",
       "    <tr>\n",
       "      <th>6</th>\n",
       "      <td>0.001454</td>\n",
       "      <td>0.000004</td>\n",
       "      <td>0.001758</td>\n",
       "      <td>0.000130</td>\n",
       "      <td>7</td>\n",
       "      <td>{'model__n_neighbors': 7}</td>\n",
       "      <td>0.602434</td>\n",
       "      <td>0.636185</td>\n",
       "      <td>0.516102</td>\n",
       "      <td>0.442088</td>\n",
       "      <td>0.245749</td>\n",
       "      <td>0.488512</td>\n",
       "      <td>0.139022</td>\n",
       "      <td>4</td>\n",
       "    </tr>\n",
       "    <tr>\n",
       "      <th>7</th>\n",
       "      <td>0.001472</td>\n",
       "      <td>0.000015</td>\n",
       "      <td>0.001798</td>\n",
       "      <td>0.000153</td>\n",
       "      <td>8</td>\n",
       "      <td>{'model__n_neighbors': 8}</td>\n",
       "      <td>0.615090</td>\n",
       "      <td>0.631185</td>\n",
       "      <td>0.551340</td>\n",
       "      <td>0.440117</td>\n",
       "      <td>0.239072</td>\n",
       "      <td>0.495361</td>\n",
       "      <td>0.144674</td>\n",
       "      <td>3</td>\n",
       "    </tr>\n",
       "    <tr>\n",
       "      <th>8</th>\n",
       "      <td>0.001473</td>\n",
       "      <td>0.000030</td>\n",
       "      <td>0.001835</td>\n",
       "      <td>0.000180</td>\n",
       "      <td>9</td>\n",
       "      <td>{'model__n_neighbors': 9}</td>\n",
       "      <td>0.625314</td>\n",
       "      <td>0.630621</td>\n",
       "      <td>0.564464</td>\n",
       "      <td>0.429107</td>\n",
       "      <td>0.279376</td>\n",
       "      <td>0.505776</td>\n",
       "      <td>0.134503</td>\n",
       "      <td>1</td>\n",
       "    </tr>\n",
       "    <tr>\n",
       "      <th>9</th>\n",
       "      <td>0.001458</td>\n",
       "      <td>0.000005</td>\n",
       "      <td>0.001848</td>\n",
       "      <td>0.000142</td>\n",
       "      <td>10</td>\n",
       "      <td>{'model__n_neighbors': 10}</td>\n",
       "      <td>0.614446</td>\n",
       "      <td>0.652489</td>\n",
       "      <td>0.555555</td>\n",
       "      <td>0.420648</td>\n",
       "      <td>0.261128</td>\n",
       "      <td>0.500853</td>\n",
       "      <td>0.143381</td>\n",
       "      <td>2</td>\n",
       "    </tr>\n",
       "  </tbody>\n",
       "</table>\n",
       "</div>"
      ],
      "text/plain": [
       "   mean_fit_time  std_fit_time  mean_score_time  std_score_time  \\\n",
       "0       0.003519      0.000734         0.003300        0.000718   \n",
       "1       0.001722      0.000122         0.001906        0.000273   \n",
       "2       0.001591      0.000095         0.001850        0.000174   \n",
       "3       0.001504      0.000033         0.001718        0.000173   \n",
       "4       0.001492      0.000021         0.001724        0.000138   \n",
       "5       0.001468      0.000006         0.001763        0.000095   \n",
       "6       0.001454      0.000004         0.001758        0.000130   \n",
       "7       0.001472      0.000015         0.001798        0.000153   \n",
       "8       0.001473      0.000030         0.001835        0.000180   \n",
       "9       0.001458      0.000005         0.001848        0.000142   \n",
       "\n",
       "  param_model__n_neighbors                      params  split0_test_score  \\\n",
       "0                        1   {'model__n_neighbors': 1}           0.339313   \n",
       "1                        2   {'model__n_neighbors': 2}           0.441649   \n",
       "2                        3   {'model__n_neighbors': 3}           0.520304   \n",
       "3                        4   {'model__n_neighbors': 4}           0.547088   \n",
       "4                        5   {'model__n_neighbors': 5}           0.560895   \n",
       "5                        6   {'model__n_neighbors': 6}           0.582450   \n",
       "6                        7   {'model__n_neighbors': 7}           0.602434   \n",
       "7                        8   {'model__n_neighbors': 8}           0.615090   \n",
       "8                        9   {'model__n_neighbors': 9}           0.625314   \n",
       "9                       10  {'model__n_neighbors': 10}           0.614446   \n",
       "\n",
       "   split1_test_score  split2_test_score  split3_test_score  split4_test_score  \\\n",
       "0           0.423779           0.534566           0.486373          -1.623928   \n",
       "1           0.547962           0.474980           0.496794          -0.548699   \n",
       "2           0.593339           0.547746           0.513891           0.002980   \n",
       "3           0.606925           0.509770           0.490452           0.211278   \n",
       "4           0.619174           0.486619           0.469869           0.231330   \n",
       "5           0.621194           0.509111           0.446859           0.250417   \n",
       "6           0.636185           0.516102           0.442088           0.245749   \n",
       "7           0.631185           0.551340           0.440117           0.239072   \n",
       "8           0.630621           0.564464           0.429107           0.279376   \n",
       "9           0.652489           0.555555           0.420648           0.261128   \n",
       "\n",
       "   mean_test_score  std_test_score  rank_test_score  \n",
       "0         0.032020        0.830549               10  \n",
       "1         0.282537        0.417052                9  \n",
       "2         0.435652        0.218139                8  \n",
       "3         0.473103        0.136807                7  \n",
       "4         0.473577        0.132431                6  \n",
       "5         0.482006        0.130434                5  \n",
       "6         0.488512        0.139022                4  \n",
       "7         0.495361        0.144674                3  \n",
       "8         0.505776        0.134503                1  \n",
       "9         0.500853        0.143381                2  "
      ]
     },
     "execution_count": 57,
     "metadata": {},
     "output_type": "execute_result"
    }
   ],
   "source": [
    "pd.DataFrame(mod.cv_results_)"
   ]
  },
  {
   "cell_type": "code",
   "execution_count": 72,
   "id": "72593f61",
   "metadata": {},
   "outputs": [
    {
     "data": {
      "text/plain": [
       "Pipeline(steps=[('scale', StandardScaler()),\n",
       "                ('model', KNeighborsRegressor(n_neighbors=2))])"
      ]
     },
     "execution_count": 72,
     "metadata": {},
     "output_type": "execute_result"
    }
   ],
   "source": [
    "pipe.fit(x,y)"
   ]
  },
  {
   "cell_type": "code",
   "execution_count": 73,
   "id": "5ec8bb69",
   "metadata": {},
   "outputs": [],
   "source": [
    "pred = pipe.predict(x);"
   ]
  },
  {
   "cell_type": "code",
   "execution_count": 74,
   "id": "a7cd6d5f",
   "metadata": {},
   "outputs": [
    {
     "data": {
      "text/plain": [
       "<matplotlib.collections.PathCollection at 0x7f92df0c94f0>"
      ]
     },
     "execution_count": 74,
     "metadata": {},
     "output_type": "execute_result"
    },
    {
     "data": {
      "image/png": "[encoded data removed]",
      "text/plain": [
       "<Figure size 432x288 with 1 Axes>"
      ]
     },
     "metadata": {
      "needs_background": "light"
     },
     "output_type": "display_data"
    }
   ],
   "source": [
    "plt.scatter(y,pred)"
   ]
  },
  {
   "cell_type": "code",
   "execution_count": null,
   "id": "c47704b3",
   "metadata": {},
   "outputs": [],
   "source": []
  }
 ],
 "metadata": {
  "kernelspec": {
   "display_name": "Python 3 (ipykernel)",
   "language": "python",
   "name": "python3"
  },
  "language_info": {
   "codemirror_mode": {
    "name": "ipython",
    "version": 3
   },
   "file_extension": ".py",
   "mimetype": "text/x-python",
   "name": "python",
   "nbconvert_exporter": "python",
   "pygments_lexer": "ipython3",
   "version": "3.9.12"
  }
 },
 "nbformat": 4,
 "nbformat_minor": 5
}
